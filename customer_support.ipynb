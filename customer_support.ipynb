{
  "nbformat": 4,
  "nbformat_minor": 0,
  "metadata": {
    "colab": {
      "provenance": [],
      "authorship_tag": "ABX9TyMlATiAkwfZ3dNAMvYZyYu1",
      "include_colab_link": true
    },
    "kernelspec": {
      "name": "python3",
      "display_name": "Python 3"
    },
    "language_info": {
      "name": "python"
    }
  },
  "cells": [
    {
      "cell_type": "markdown",
      "metadata": {
        "id": "view-in-github",
        "colab_type": "text"
      },
      "source": [
        "<a href=\"https://colab.research.google.com/github/aatika-hakim/chatbots/blob/main/customer_support.ipynb\" target=\"_parent\"><img src=\"https://colab.research.google.com/assets/colab-badge.svg\" alt=\"Open In Colab\"/></a>"
      ]
    },
    {
      "cell_type": "code",
      "source": [
        "!pip install -q langgraph langchain_google_genai langchain_community"
      ],
      "metadata": {
        "collapsed": true,
        "id": "86bW3iUZQ2nA"
      },
      "execution_count": 4,
      "outputs": []
    },
    {
      "cell_type": "code",
      "source": [
        "from typing import Annotated\n",
        "\n",
        "from typing_extensions import TypedDict\n",
        "\n",
        "from langgraph.graph import StateGraph, START, END\n",
        "from langgraph.graph.message import add_messages"
      ],
      "metadata": {
        "id": "iSXuN84DQigR"
      },
      "execution_count": 5,
      "outputs": []
    },
    {
      "cell_type": "code",
      "source": [
        "class State(TypedDict):\n",
        "    # Messages have the type \"list\". The `add_messages` function\n",
        "    # in the annotation defines how this state key should be updated\n",
        "    # (in this case, it appends messages to the list, rather than overwriting them)\n",
        "    messages: Annotated[list, add_messages]"
      ],
      "metadata": {
        "id": "6CGpFizLQjRi"
      },
      "execution_count": 6,
      "outputs": []
    },
    {
      "cell_type": "code",
      "source": [
        "graph_builder = StateGraph(State)"
      ],
      "metadata": {
        "id": "_-C5Znl7Qnqa"
      },
      "execution_count": 7,
      "outputs": []
    },
    {
      "cell_type": "code",
      "source": [
        "# from langchain_google_genai import ChatGoogleGenerativeAI\n",
        "# llm = ChatGoogleGenerativeAI(model=\"gemini-1.0-pro\")\n",
        "# llm.invoke(\"hi\").content\n",
        "from google.colab import userdata\n",
        "\n",
        "api_key = userdata.get('GROQ_API_KEY')\n",
        "\n",
        "from langchain_groq import ChatGroq\n",
        "llm = ChatGroq(model=\"llama-3.1-70b-versatile\", temperature=1, api_key= api_key)\n",
        "llm.invoke(\"hi\").content"
      ],
      "metadata": {
        "colab": {
          "base_uri": "https://localhost:8080/",
          "height": 332
        },
        "id": "1gtx7uE9QqGT",
        "outputId": "fa0cf884-dc2f-4f1b-9698-4a1361ebed74"
      },
      "execution_count": 8,
      "outputs": [
        {
          "output_type": "error",
          "ename": "TimeoutException",
          "evalue": "Requesting secret GROQ_API_KEY timed out. Secrets can only be fetched when running from the Colab UI.",
          "traceback": [
            "\u001b[0;31m---------------------------------------------------------------------------\u001b[0m",
            "\u001b[0;31mTimeoutException\u001b[0m                          Traceback (most recent call last)",
            "\u001b[0;32m<ipython-input-8-130320c422c3>\u001b[0m in \u001b[0;36m<cell line: 6>\u001b[0;34m()\u001b[0m\n\u001b[1;32m      4\u001b[0m \u001b[0;32mfrom\u001b[0m \u001b[0mgoogle\u001b[0m\u001b[0;34m.\u001b[0m\u001b[0mcolab\u001b[0m \u001b[0;32mimport\u001b[0m \u001b[0muserdata\u001b[0m\u001b[0;34m\u001b[0m\u001b[0;34m\u001b[0m\u001b[0m\n\u001b[1;32m      5\u001b[0m \u001b[0;34m\u001b[0m\u001b[0m\n\u001b[0;32m----> 6\u001b[0;31m \u001b[0mapi_key\u001b[0m \u001b[0;34m=\u001b[0m \u001b[0muserdata\u001b[0m\u001b[0;34m.\u001b[0m\u001b[0mget\u001b[0m\u001b[0;34m(\u001b[0m\u001b[0;34m'GROQ_API_KEY'\u001b[0m\u001b[0;34m)\u001b[0m\u001b[0;34m\u001b[0m\u001b[0;34m\u001b[0m\u001b[0m\n\u001b[0m\u001b[1;32m      7\u001b[0m \u001b[0;34m\u001b[0m\u001b[0m\n\u001b[1;32m      8\u001b[0m \u001b[0;32mfrom\u001b[0m \u001b[0mlangchain_groq\u001b[0m \u001b[0;32mimport\u001b[0m \u001b[0mChatGroq\u001b[0m\u001b[0;34m\u001b[0m\u001b[0;34m\u001b[0m\u001b[0m\n",
            "\u001b[0;32m/usr/local/lib/python3.10/dist-packages/google/colab/userdata.py\u001b[0m in \u001b[0;36mget\u001b[0;34m(key)\u001b[0m\n\u001b[1;32m     64\u001b[0m     )\n\u001b[1;32m     65\u001b[0m   \u001b[0;32mif\u001b[0m \u001b[0;32mnot\u001b[0m \u001b[0mresp\u001b[0m\u001b[0;34m:\u001b[0m\u001b[0;34m\u001b[0m\u001b[0;34m\u001b[0m\u001b[0m\n\u001b[0;32m---> 66\u001b[0;31m     \u001b[0;32mraise\u001b[0m \u001b[0mTimeoutException\u001b[0m\u001b[0;34m(\u001b[0m\u001b[0mkey\u001b[0m\u001b[0;34m)\u001b[0m\u001b[0;34m\u001b[0m\u001b[0;34m\u001b[0m\u001b[0m\n\u001b[0m\u001b[1;32m     67\u001b[0m   \u001b[0;32mif\u001b[0m \u001b[0;32mnot\u001b[0m \u001b[0mresp\u001b[0m\u001b[0;34m.\u001b[0m\u001b[0mget\u001b[0m\u001b[0;34m(\u001b[0m\u001b[0;34m'exists'\u001b[0m\u001b[0;34m,\u001b[0m \u001b[0;32mFalse\u001b[0m\u001b[0;34m)\u001b[0m\u001b[0;34m:\u001b[0m\u001b[0;34m\u001b[0m\u001b[0;34m\u001b[0m\u001b[0m\n\u001b[1;32m     68\u001b[0m     \u001b[0;32mraise\u001b[0m \u001b[0mSecretNotFoundError\u001b[0m\u001b[0;34m(\u001b[0m\u001b[0mkey\u001b[0m\u001b[0;34m)\u001b[0m\u001b[0;34m\u001b[0m\u001b[0;34m\u001b[0m\u001b[0m\n",
            "\u001b[0;31mTimeoutException\u001b[0m: Requesting secret GROQ_API_KEY timed out. Secrets can only be fetched when running from the Colab UI."
          ]
        }
      ]
    },
    {
      "cell_type": "code",
      "source": [
        "def chatbot(state: State):\n",
        "    return {\"messages\": [llm.invoke(state[\"messages\"])]}\n",
        "graph_builder.add_node(\"chatbot\", chatbot)\n",
        "graph_builder.add_edge(START, \"chatbot\")\n",
        "graph_builder.add_edge(\"chatbot\", END)\n",
        "graph = graph_builder.compile()"
      ],
      "metadata": {
        "id": "2vPPqD0hQxcO"
      },
      "execution_count": 9,
      "outputs": []
    },
    {
      "cell_type": "code",
      "source": [
        "from IPython.display import Image, display\n",
        "\n",
        "try:\n",
        "    display(Image(graph.get_graph().draw_mermaid_png()))\n",
        "except Exception:\n",
        "    # This requires some extra dependencies and is optional\n",
        "    pass"
      ],
      "metadata": {
        "colab": {
          "base_uri": "https://localhost:8080/",
          "height": 251
        },
        "id": "hmeg7EfPQ738",
        "outputId": "9a0e02ae-08e0-4939-a979-84bc2e35bd8a"
      },
      "execution_count": 10,
      "outputs": [
        {
          "output_type": "display_data",
          "data": {
            "image/png": "[encoded data removed]",
            "text/plain": [
              "<IPython.core.display.Image object>"
            ]
          },
          "metadata": {}
        }
      ]
    },
    {
      "cell_type": "code",
      "source": [
        "def stream_graph_updates(user_input: str):\n",
        "    for event in graph.stream({\"messages\": [(\"user\", user_input)]}):\n",
        "        for value in event.values():\n",
        "            print(\"Assistant:\", value[\"messages\"][-1].content)\n",
        "while True:\n",
        "    try:\n",
        "        user_input = input(\"User: \")\n",
        "        if user_input.lower() in [\"quit\", \"exit\", \"q\"]:\n",
        "            print(\"Goodbye!\")\n",
        "            break\n",
        "\n",
        "        stream_graph_updates(user_input)\n",
        "    except:\n",
        "        # fallback if input() is not available\n",
        "        user_input = \"What do you know about LangGraph?\"\n",
        "        print(\"User: \" + user_input)\n",
        "        stream_graph_updates(user_input)\n",
        "        break"
      ],
      "metadata": {
        "id": "W7UL2T5YRA_J"
      },
      "execution_count": null,
      "outputs": []
    },
    {
      "cell_type": "code",
      "source": [
        "from typing import Annotated\n",
        "from typing_extensions import TypedDict\n",
        "\n",
        "from langgraph.graph import StateGraph, START, END\n",
        "from langgraph.graph.message import add_messages\n",
        "\n",
        "\n",
        "class State(TypedDict):\n",
        "    messages: Annotated[list, add_messages]\n",
        "\n",
        "\n",
        "graph_builder = StateGraph(State)\n",
        "\n",
        "\n",
        "def chatbot(state: State):\n",
        "    return {\"messages\": [llm.invoke(state[\"messages\"])]}\n",
        "\n",
        "\n",
        "graph_builder.add_node(\"chatbot\", chatbot)"
      ],
      "metadata": {
        "colab": {
          "base_uri": "https://localhost:8080/"
        },
        "id": "rQYoZL_9RJFY",
        "outputId": "93a3affb-9006-42f7-c6c6-cb5cc6ff3ed6"
      },
      "execution_count": 12,
      "outputs": [
        {
          "output_type": "execute_result",
          "data": {
            "text/plain": [
              "<langgraph.graph.state.StateGraph at 0x7c144881b280>"
            ]
          },
          "metadata": {},
          "execution_count": 12
        }
      ]
    },
    {
      "cell_type": "code",
      "source": [
        "while True:\n",
        "    try:\n",
        "        user_input = input(\"User: \")\n",
        "        if user_input.lower() in [\"quit\", \"exit\", \"q\"]:\n",
        "            print(\"Goodbye!\")\n",
        "            break\n",
        "\n",
        "        stream_graph_updates(user_input)\n",
        "    except:\n",
        "        # fallback if input() is not available\n",
        "        user_input = \"What do you know about LangGraph?\"\n",
        "        print(\"User: \" + user_input)\n",
        "        stream_graph_updates(user_input)\n",
        "        break"
      ],
      "metadata": {
        "id": "6O2jYq7KRWRT"
      },
      "execution_count": null,
      "outputs": []
    },
    {
      "cell_type": "code",
      "source": [
        "import re\n",
        "\n",
        "# Define customer support keywords or intents\n",
        "SUPPORT_KEYWORDS = [\n",
        "    \"complaint\", \"refund\", \"support\", \"issue\", \"problem\",\n",
        "    \"help\", \"order\", \"billing\", \"payment\", \"service\"\n",
        "]\n",
        "\n",
        "# Function to check if input is a customer support query\n",
        "def is_customer_support_query(user_input):\n",
        "    user_input = user_input.lower()\n",
        "    return any(keyword in user_input for keyword in SUPPORT_KEYWORDS)\n",
        "\n",
        "# Function to process customer support queries\n",
        "def handle_customer_support(user_input):\n",
        "    if \"complaint\" in user_input:\n",
        "        return \"Please describe your issue, including the product and your preferred resolution.\"\n",
        "    elif \"refund\" in user_input:\n",
        "        return \"To process a refund, we need the order ID and the reason for the refund.\"\n",
        "    elif \"help\" in user_input:\n",
        "        return \"How can I assist you today? You can ask about complaints, refunds, or other support issues.\"\n",
        "    else:\n",
        "        return \"Can you provide more details about your support request?\"\n",
        "\n",
        "# Main chatbot loop\n",
        "def customer_support_chatbot():\n",
        "    while True:\n",
        "        try:\n",
        "            user_input = input(\"User: \")\n",
        "            if user_input.lower() in [\"quit\", \"exit\", \"q\"]:\n",
        "                print(\"Goodbye! Have a great day!\")\n",
        "                break\n",
        "\n",
        "            # Check if the input is a valid support query\n",
        "            if is_customer_support_query(user_input):\n",
        "                response = handle_customer_support(user_input)\n",
        "            else:\n",
        "                response = \"I'm here to assist with customer support issues only. Please ask a relevant question.\"\n",
        "\n",
        "            print(\"Chatbot:\", response)\n",
        "\n",
        "        except Exception as e:\n",
        "            print(f\"Error: {str(e)}\")\n",
        "            break\n",
        "\n",
        "# Run the chatbot\n",
        "customer_support_chatbot()\n"
      ],
      "metadata": {
        "id": "2vlwzkh0X3My"
      },
      "execution_count": null,
      "outputs": []
    },
    {
      "cell_type": "code",
      "source": [
        "!pip install -q streamlit langchain_anthropic gradio"
      ],
      "metadata": {
        "collapsed": true,
        "id": "KprntmE5UGsu",
        "outputId": "1c606859-e3d9-4084-9159-f618a50db477",
        "colab": {
          "base_uri": "https://localhost:8080/"
        }
      },
      "execution_count": 6,
      "outputs": [
        {
          "output_type": "stream",
          "name": "stdout",
          "text": [
            "\u001b[2K   \u001b[90m━━━━━━━━━━━━━━━━━━━━━━━━━━━━━━━━━━━━━━━━\u001b[0m \u001b[32m57.2/57.2 MB\u001b[0m \u001b[31m15.7 MB/s\u001b[0m eta \u001b[36m0:00:00\u001b[0m\n",
            "\u001b[2K   \u001b[90m━━━━━━━━━━━━━━━━━━━━━━━━━━━━━━━━━━━━━━━━\u001b[0m \u001b[32m320.4/320.4 kB\u001b[0m \u001b[31m19.1 MB/s\u001b[0m eta \u001b[36m0:00:00\u001b[0m\n",
            "\u001b[2K   \u001b[90m━━━━━━━━━━━━━━━━━━━━━━━━━━━━━━━━━━━━━━━━\u001b[0m \u001b[32m94.8/94.8 kB\u001b[0m \u001b[31m6.5 MB/s\u001b[0m eta \u001b[36m0:00:00\u001b[0m\n",
            "\u001b[2K   \u001b[90m━━━━━━━━━━━━━━━━━━━━━━━━━━━━━━━━━━━━━━━━\u001b[0m \u001b[32m11.2/11.2 MB\u001b[0m \u001b[31m74.6 MB/s\u001b[0m eta \u001b[36m0:00:00\u001b[0m\n",
            "\u001b[2K   \u001b[90m━━━━━━━━━━━━━━━━━━━━━━━━━━━━━━━━━━━━━━━━\u001b[0m \u001b[32m73.2/73.2 kB\u001b[0m \u001b[31m5.3 MB/s\u001b[0m eta \u001b[36m0:00:00\u001b[0m\n",
            "\u001b[2K   \u001b[90m━━━━━━━━━━━━━━━━━━━━━━━━━━━━━━━━━━━━━━━━\u001b[0m \u001b[32m62.3/62.3 kB\u001b[0m \u001b[31m4.2 MB/s\u001b[0m eta \u001b[36m0:00:00\u001b[0m\n",
            "\u001b[?25h"
          ]
        }
      ]
    },
    {
      "cell_type": "code",
      "source": [
        "import streamlit as st\n",
        "from langchain.memory import ConversationBufferMemory\n",
        "from langchain.tools import tool\n",
        "from langchain_anthropic import ChatAnthropic\n",
        "from langchain.agents import AgentExecutor, Tool\n",
        "from langchain_core.prompts import ChatPromptTemplate\n",
        "from langgraph.graph import StateGraph, END, START\n",
        "from langchain_community.tools.tavily_search import TavilySearchResults\n",
        "from typing_extensions import TypedDict\n",
        "from google.colab import userdata\n",
        "import os\n",
        "\n",
        "# Load environment variables and set OpenAI API key\n",
        "\n",
        "os.environ[\"TAVILY_API_KEY\"] = userdata.get(\"TAVILY_API_KEY\")\n",
        "\n",
        "# Setup LLM\n",
        "llm = ChatAnthropic(model=\"claude-3-5-sonnet-20240620\")\n",
        "\n",
        "# Memory setup\n",
        "memory = ConversationBufferMemory(return_messages=True)\n",
        "\n",
        "# Define the state structure\n",
        "class State(TypedDict):\n",
        "    query: str\n",
        "    category: str\n",
        "    response: str\n",
        "\n",
        "# Restaurant-specific tools\n",
        "\n",
        "@tool\n",
        "def menu_search(state: State) -> str:\n",
        "    \"\"\"Provide information about menu items or specials.\"\"\"\n",
        "    menu_query = state.get(\"query\", \"\").strip()\n",
        "    if not menu_query:\n",
        "        return \"Please provide a specific menu item or query.\"\n",
        "\n",
        "    # Simulate menu search\n",
        "    menu_items = [\"Pizza\", \"Burger\", \"Pasta\", \"Salad\", \"Dessert\"]\n",
        "    if menu_query.lower() in [item.lower() for item in menu_items]:\n",
        "        return f\"Here's information about {menu_query}.\"\n",
        "    return \"Sorry, we couldn't find that item on the menu.\"\n",
        "\n",
        "@tool\n",
        "def order_status(state: State) -> str:\n",
        "    \"\"\"Track or modify a customer's order.\"\"\"\n",
        "    order_id = state.get(\"query\", \"\").strip()\n",
        "    if not order_id:\n",
        "        return \"Please provide your order ID.\"\n",
        "\n",
        "    # Simulate order status lookup\n",
        "    return f\"Your order {order_id} is being prepared and should arrive shortly.\"\n",
        "\n",
        "@tool\n",
        "def reservation_tool(state: State) -> str:\n",
        "    \"\"\"Handle restaurant reservations.\"\"\"\n",
        "    reservation_query = state.get(\"query\", \"\").strip()\n",
        "    if not reservation_query:\n",
        "        return \"Please provide details like the number of people and time for your reservation.\"\n",
        "\n",
        "    # Simulate reservation handling\n",
        "    return f\"Your reservation for {reservation_query} has been confirmed.\"\n",
        "\n",
        "@tool\n",
        "def feedback_complaints(state: State) -> str:\n",
        "    \"\"\"Handle customer complaints or feedback.\"\"\"\n",
        "    feedback = state.get(\"query\", \"\").strip()\n",
        "    if not feedback:\n",
        "        return \"Please provide details of your complaint or feedback.\"\n",
        "\n",
        "    # Simulate handling feedback\n",
        "    return f\"Thank you for your feedback! We will look into it shortly.\"\n",
        "\n",
        "# Tools\n",
        "tools = [\n",
        "    Tool(name=\"menu_search\", func=menu_search, description=\"Search the menu for items or specials.\"),\n",
        "    Tool(name=\"order_status\", func=order_status, description=\"Check the status of an order.\"),\n",
        "    Tool(name=\"reservation_tool\", func=reservation_tool, description=\"Make or modify restaurant reservations.\"),\n",
        "    Tool(name=\"feedback_complaints\", func=feedback_complaints, description=\"Handle complaints or feedback.\"),\n",
        "]\n",
        "\n",
        "# Agent Executor\n",
        "agent = AgentExecutor(agent=llm, tools=tools, verbose=True)\n",
        "\n",
        "def use_tool(state: State) -> State:\n",
        "    \"\"\"Use LangChain tools to handle specific tasks.\"\"\"\n",
        "    query = state[\"query\"]\n",
        "    try:\n",
        "        response = agent.run(query)\n",
        "        state[\"response\"] = response\n",
        "    except Exception as e:\n",
        "        state[\"response\"] = f\"An error occurred: {str(e)}\"\n",
        "    return state\n",
        "\n",
        "# Categorize restaurant queries\n",
        "def categorize_query(state: State) -> State:\n",
        "    \"\"\"Categorize the query into relevant restaurant support categories.\"\"\"\n",
        "    prompt = ChatPromptTemplate.from_template(\n",
        "        \"\"\"\n",
        "        Categorize the following query into one of these categories:\n",
        "        'Menu Inquiry', 'Order Issues', 'Reservation', 'Feedback/Complaints', or 'General Assistance'.\n",
        "        Query: {query}\n",
        "\n",
        "        Conversation History:\n",
        "        {history}\n",
        "        \"\"\"\n",
        "    )\n",
        "    chain = prompt | llm\n",
        "    category = chain.invoke({\"query\": state[\"query\"], \"history\": memory.buffer}).content\n",
        "    state[\"category\"] = category\n",
        "    memory.save_context({\"Human\": state[\"query\"]}, {\"AI\": category})\n",
        "    return state\n",
        "\n",
        "# Routing logic\n",
        "def route_query(state: State) -> str:\n",
        "    \"\"\"Route the query based on its category.\"\"\"\n",
        "    category = state.get(\"category\", \"\")\n",
        "    if category == \"Menu Inquiry\":\n",
        "        return \"menu_search\"\n",
        "    elif category == \"Order Issues\":\n",
        "        return \"order_status\"\n",
        "    elif category == \"Reservation\":\n",
        "        return \"reservation_tool\"\n",
        "    elif category == \"Feedback/Complaints\":\n",
        "        return \"feedback_complaints\"\n",
        "    else:\n",
        "        return \"handle_general_assistance\"\n",
        "\n",
        "# Handle general assistance\n",
        "def handle_general_assistance(state: State) -> State:\n",
        "    \"\"\"Provide general assistance for restaurant-related queries.\"\"\"\n",
        "    prompt = ChatPromptTemplate.from_template(\n",
        "        \"Provide general assistance for the following query: {query}\\n\\nConversation History:\\n{history}\"\n",
        "    )\n",
        "    chain = prompt | llm\n",
        "    response = chain.invoke({\"query\": state[\"query\"], \"history\": memory.buffer}).content\n",
        "    state[\"response\"] = response\n",
        "    memory.save_context({\"Human\": state[\"query\"]}, {\"AI\": response})\n",
        "    return state\n",
        "\n",
        "# Workflow setup\n",
        "workflow = StateGraph(State)\n",
        "workflow.add_node(\"categorize_query\", categorize_query)\n",
        "workflow.add_node(\"menu_search\", menu_search)\n",
        "workflow.add_node(\"order_status\", order_status)\n",
        "workflow.add_node(\"reservation_tool\", reservation_tool)\n",
        "workflow.add_node(\"feedback_complaints\", feedback_complaints)\n",
        "workflow.add_node(\"handle_general_assistance\", handle_general_assistance)\n",
        "workflow.add_edge(START, \"categorize_query\")\n",
        "workflow.add_conditional_edges(\n",
        "    \"categorize_query\", route_query,\n",
        "    [\"menu_search\", \"order_status\", \"reservation_tool\", \"feedback_complaints\", \"handle_general_assistance\"], END\n",
        ")\n",
        "\n",
        "app = workflow.compile()\n"
      ],
      "metadata": {
        "id": "utRfYTDcUBm3"
      },
      "execution_count": 5,
      "outputs": []
    },
    {
      "cell_type": "code",
      "source": [
        "# Streamlit UI Setup\n",
        "st.set_page_config(page_title=\"Restaurant Customer Support\", page_icon=\"🍽️\", layout=\"wide\")\n",
        "st.title(\"🍽️ Restaurant Customer Support Chatbot\")\n",
        "st.write(\"Welcome! I'm here to assist you with menu inquiries, order issues, reservations, feedback, and more.\")\n",
        "\n",
        "# Sidebar setup\n",
        "st.sidebar.title(\"🍴 Support Options\")\n",
        "st.sidebar.header(\"Choose an option:\")\n",
        "st.sidebar.markdown(\"\"\"\n",
        "- **Menu Inquiry**: Get details on our menu items.\n",
        "- **Order Issues**: Track or modify your order.\n",
        "- **Reservation**: Make or change your reservation.\n",
        "- **Feedback/Complaints**: Let us know about your experience.\n",
        "- **General Assistance**: Ask anything else.\n",
        "\"\"\")\n",
        "\n",
        "# User chat interface\n",
        "if \"history\" not in st.session_state:\n",
        "    st.session_state.history = []\n",
        "\n",
        "# Display chat history\n",
        "def display_chat():\n",
        "    for message in st.session_state.history:\n",
        "        role = message[\"role\"]\n",
        "        if role == \"user\":\n",
        "            st.chat_message(\"user\").markdown(message[\"content\"])\n",
        "        elif role == \"assistant\":\n",
        "            st.chat_message(\"assistant\").markdown(message[\"content\"])\n",
        "\n",
        "# Input handler\n",
        "query = st.chat_input(\"💬 Type your question here...\")\n",
        "if query:\n",
        "    # Append user message to history\n",
        "    st.session_state.history.append({\"role\": \"user\", \"content\": query})\n",
        "\n",
        "    # Process query and route to appropriate function\n",
        "    state = {\"query\": query, \"category\": \"\", \"response\": \"\"}\n",
        "    result = app.invoke(state)\n",
        "\n",
        "    # Append AI response to history\n",
        "    st.session_state.history.append({\"role\": \"assistant\", \"content\": result[\"response\"]})\n",
        "\n",
        "# Display updated chat\n",
        "display_chat()\n",
        "\n",
        "# Reset conversation\n",
        "if st.sidebar.button(\"🔄 Reset Conversation\"):\n",
        "    st.session_state.history.clear()\n",
        "    st.sidebar.success(\"Conversation reset successfully!\")"
      ],
      "metadata": {
        "id": "LorkvRNAVhHb"
      },
      "execution_count": null,
      "outputs": []
    }
  ]
}