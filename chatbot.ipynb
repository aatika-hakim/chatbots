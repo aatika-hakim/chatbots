{
  "nbformat": 4,
  "nbformat_minor": 0,
  "metadata": {
    "colab": {
      "provenance": [],
      "authorship_tag": "ABX9TyPDshp5ID524eBZQPamFYS9",
      "include_colab_link": true
    },
    "kernelspec": {
      "name": "python3",
      "display_name": "Python 3"
    },
    "language_info": {
      "name": "python"
    }
  },
  "cells": [
    {
      "cell_type": "markdown",
      "metadata": {
        "id": "view-in-github",
        "colab_type": "text"
      },
      "source": [
        "<a href=\"https://colab.research.google.com/github/aatika-hakim/chatbots/blob/main/chatbot.ipynb\" target=\"_parent\"><img src=\"https://colab.research.google.com/assets/colab-badge.svg\" alt=\"Open In Colab\"/></a>"
      ]
    },
    {
      "cell_type": "code",
      "source": [
        "!pip install langgraph langchain_google_genai langchain_community"
      ],
      "metadata": {
        "collapsed": true,
        "id": "86bW3iUZQ2nA"
      },
      "execution_count": null,
      "outputs": []
    },
    {
      "cell_type": "code",
      "source": [
        "from typing import Annotated\n",
        "\n",
        "from typing_extensions import TypedDict\n",
        "\n",
        "from langgraph.graph import StateGraph, START, END\n",
        "from langgraph.graph.message import add_messages"
      ],
      "metadata": {
        "id": "iSXuN84DQigR"
      },
      "execution_count": null,
      "outputs": []
    },
    {
      "cell_type": "code",
      "source": [
        "class State(TypedDict):\n",
        "    # Messages have the type \"list\". The `add_messages` function\n",
        "    # in the annotation defines how this state key should be updated\n",
        "    # (in this case, it appends messages to the list, rather than overwriting them)\n",
        "    messages: Annotated[list, add_messages]"
      ],
      "metadata": {
        "id": "6CGpFizLQjRi"
      },
      "execution_count": null,
      "outputs": []
    },
    {
      "cell_type": "code",
      "source": [
        "graph_builder = StateGraph(State)"
      ],
      "metadata": {
        "id": "_-C5Znl7Qnqa"
      },
      "execution_count": null,
      "outputs": []
    },
    {
      "cell_type": "code",
      "source": [
        "# from langchain_google_genai import ChatGoogleGenerativeAI\n",
        "# llm = ChatGoogleGenerativeAI(model=\"gemini-1.0-pro\")\n",
        "# llm.invoke(\"hi\").content\n",
        "from google.colab import userdata\n",
        "\n",
        "api_key = userdata.get('GROQ_API_KEY')\n",
        "\n",
        "from langchain_groq import ChatGroq\n",
        "llm = ChatGroq(model=\"llama-3.1-70b-versatile\", temperature=1, api_key= api_key)\n",
        "llm.invoke(\"hi\").content"
      ],
      "metadata": {
        "id": "1gtx7uE9QqGT"
      },
      "execution_count": null,
      "outputs": []
    },
    {
      "cell_type": "code",
      "source": [
        "def chatbot(state: State):\n",
        "    return {\"messages\": [llm.invoke(state[\"messages\"])]}\n",
        "graph_builder.add_node(\"chatbot\", chatbot)\n",
        "graph_builder.add_edge(START, \"chatbot\")\n",
        "graph_builder.add_edge(\"chatbot\", END)\n",
        "graph = graph_builder.compile()"
      ],
      "metadata": {
        "id": "2vPPqD0hQxcO"
      },
      "execution_count": null,
      "outputs": []
    },
    {
      "cell_type": "code",
      "source": [
        "from IPython.display import Image, display\n",
        "\n",
        "try:\n",
        "    display(Image(graph.get_graph().draw_mermaid_png()))\n",
        "except Exception:\n",
        "    # This requires some extra dependencies and is optional\n",
        "    pass"
      ],
      "metadata": {
        "id": "hmeg7EfPQ738"
      },
      "execution_count": null,
      "outputs": []
    },
    {
      "cell_type": "code",
      "source": [
        "def stream_graph_updates(user_input: str):\n",
        "    for event in graph.stream({\"messages\": [(\"user\", user_input)]}):\n",
        "        for value in event.values():\n",
        "            print(\"Assistant:\", value[\"messages\"][-1].content)\n",
        "while True:\n",
        "    try:\n",
        "        user_input = input(\"User: \")\n",
        "        if user_input.lower() in [\"quit\", \"exit\", \"q\"]:\n",
        "            print(\"Goodbye!\")\n",
        "            break\n",
        "\n",
        "        stream_graph_updates(user_input)\n",
        "    except:\n",
        "        # fallback if input() is not available\n",
        "        user_input = \"What do you know about LangGraph?\"\n",
        "        print(\"User: \" + user_input)\n",
        "        stream_graph_updates(user_input)\n",
        "        break"
      ],
      "metadata": {
        "id": "W7UL2T5YRA_J"
      },
      "execution_count": null,
      "outputs": []
    },
    {
      "cell_type": "code",
      "source": [
        "from typing import Annotated\n",
        "from typing_extensions import TypedDict\n",
        "\n",
        "from langgraph.graph import StateGraph, START, END\n",
        "from langgraph.graph.message import add_messages\n",
        "\n",
        "\n",
        "class State(TypedDict):\n",
        "    messages: Annotated[list, add_messages]\n",
        "\n",
        "\n",
        "graph_builder = StateGraph(State)\n",
        "\n",
        "\n",
        "def chatbot(state: State):\n",
        "    return {\"messages\": [llm_with_tools.invoke(state[\"messages\"])]}\n",
        "\n",
        "\n",
        "graph_builder.add_node(\"chatbot\", chatbot)"
      ],
      "metadata": {
        "id": "rQYoZL_9RJFY"
      },
      "execution_count": null,
      "outputs": []
    },
    {
      "cell_type": "code",
      "source": [
        "while True:\n",
        "    try:\n",
        "        user_input = input(\"User: \")\n",
        "        if user_input.lower() in [\"quit\", \"exit\", \"q\"]:\n",
        "            print(\"Goodbye!\")\n",
        "            break\n",
        "\n",
        "        stream_graph_updates(user_input)\n",
        "    except:\n",
        "        # fallback if input() is not available\n",
        "        user_input = \"What do you know about LangGraph?\"\n",
        "        print(\"User: \" + user_input)\n",
        "        stream_graph_updates(user_input)\n",
        "        break"
      ],
      "metadata": {
        "colab": {
          "base_uri": "https://localhost:8080/"
        },
        "id": "6O2jYq7KRWRT",
        "outputId": "393bd686-7162-4be0-c838-51dd00374ee6"
      },
      "execution_count": null,
      "outputs": [
        {
          "output_type": "stream",
          "name": "stdout",
          "text": [
            "User: hello\n",
            "Assistant: Hello. How can I assist you today?\n",
            "User: what is biryani\n",
            "Assistant: Biryani is a popular South Asian mixed rice dish made with a combination of basmati rice, spices, and usually meat or vegetables. It is a flavorful and aromatic dish that originated in the Indian subcontinent and has since spread to other parts of the world.\n",
            "\n",
            "The word \"biryani\" is derived from the Persian word \"birian,\" which means \"fried\" or \"roasted.\" The dish is typically made by layering cooked rice with a mixture of meat or vegetables, spices, and sometimes eggs, onions, and ghee (clarified butter). The layers are then stacked in a pot or vessel, and the dish is cooked over low heat, allowing the flavors to meld together.\n",
            "\n",
            "There are many different types of biryani, and the ingredients and cooking methods can vary greatly depending on the region and personal preferences. Some popular types of biryani include:\n",
            "\n",
            "1. Hyderabadi biryani: A spicy and flavorful biryani made with lamb or beef, and is a specialty of the city of Hyderabad in India.\n",
            "2. Lucknowi biryani: A mild and flavorful biryani made with lamb or beef, and is a specialty of the city of Lucknow in India.\n",
            "3. Sindhi biryani: A spicy and flavorful biryani made with lamb or beef, and is a specialty of the Sindh region in Pakistan.\n",
            "4. Vegetable biryani: A vegetarian version of the dish, made with a variety of vegetables and sometimes eggs.\n",
            "5. Egg biryani: A version of the dish made with eggs, and is a popular breakfast or brunch option.\n",
            "\n",
            "Biryani is often served at special occasions and is a popular dish in many South Asian countries, including India, Pakistan, Bangladesh, and Sri Lanka. It is also popular in other parts of the world, including the Middle East, Southeast Asia, and the West.\n",
            "\n",
            "Some of the key ingredients that make biryani so flavorful and aromatic include:\n",
            "\n",
            "* Basmati rice: A long-grain rice that is known for its fluffy texture and distinct nutty flavor.\n",
            "* Spices: A blend of spices that can include cumin, coriander, cinnamon, cardamom, and cloves.\n",
            "* Ghee: Clarified butter that is used to add flavor and richness to the dish.\n",
            "* Aromatics: Onions, garlic, and ginger that are sautéed at the beginning of the cooking process to add flavor to the dish.\n",
            "* Meat or vegetables: A variety of ingredients that can include lamb, beef, chicken, or vegetables like cauliflower, carrots, and peas.\n",
            "\n",
            "Overall, biryani is a delicious and flavorful dish that is loved by many people around the world.\n"
          ]
        }
      ]
    }
  ]
}